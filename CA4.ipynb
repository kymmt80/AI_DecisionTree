{
 "cells": [
  {
   "cell_type": "markdown",
   "metadata": {},
   "source": [
    "# Decision Tree"
   ]
  },
  {
   "cell_type": "code",
   "execution_count": 1,
   "metadata": {},
   "outputs": [],
   "source": [
    "import pandas as pd\n",
    "import sklearn as sk\n",
    "import matplotlib.pyplot as plt\n",
    "import copy\n",
    "import warnings\n",
    "warnings.filterwarnings('ignore')"
   ]
  },
  {
   "cell_type": "markdown",
   "metadata": {},
   "source": [
    "## Phase0: Data Analysis\n"
   ]
  },
  {
   "cell_type": "markdown",
   "metadata": {},
   "source": [
    "### loading data"
   ]
  },
  {
   "cell_type": "code",
   "execution_count": 2,
   "metadata": {},
   "outputs": [
    {
     "data": {
      "text/html": [
       "<div>\n",
       "<style scoped>\n",
       "    .dataframe tbody tr th:only-of-type {\n",
       "        vertical-align: middle;\n",
       "    }\n",
       "\n",
       "    .dataframe tbody tr th {\n",
       "        vertical-align: top;\n",
       "    }\n",
       "\n",
       "    .dataframe thead th {\n",
       "        text-align: right;\n",
       "    }\n",
       "</style>\n",
       "<table border=\"1\" class=\"dataframe\">\n",
       "  <thead>\n",
       "    <tr style=\"text-align: right;\">\n",
       "      <th></th>\n",
       "      <th>type</th>\n",
       "      <th>title</th>\n",
       "      <th>cast</th>\n",
       "      <th>country</th>\n",
       "      <th>release_year</th>\n",
       "      <th>listed_in</th>\n",
       "      <th>description</th>\n",
       "    </tr>\n",
       "  </thead>\n",
       "  <tbody>\n",
       "    <tr>\n",
       "      <th>0</th>\n",
       "      <td>Movie</td>\n",
       "      <td>Dick Johnson Is Dead</td>\n",
       "      <td>NaN</td>\n",
       "      <td>United States</td>\n",
       "      <td>2020</td>\n",
       "      <td>Documentaries</td>\n",
       "      <td>As her father nears the end of his life, filmm...</td>\n",
       "    </tr>\n",
       "    <tr>\n",
       "      <th>1</th>\n",
       "      <td>TV Show</td>\n",
       "      <td>Blood &amp; Water</td>\n",
       "      <td>Ama Qamata, Khosi Ngema, Gail Mabalane, Thaban...</td>\n",
       "      <td>South Africa</td>\n",
       "      <td>2021</td>\n",
       "      <td>International TV Shows, TV Dramas, TV Mysteries</td>\n",
       "      <td>After crossing paths at a party, a Cape Town t...</td>\n",
       "    </tr>\n",
       "    <tr>\n",
       "      <th>2</th>\n",
       "      <td>TV Show</td>\n",
       "      <td>Ganglands</td>\n",
       "      <td>Sami Bouajila, Tracy Gotoas, Samuel Jouy, Nabi...</td>\n",
       "      <td>NaN</td>\n",
       "      <td>2021</td>\n",
       "      <td>Crime TV Shows, International TV Shows, TV Act...</td>\n",
       "      <td>To protect his family from a powerful drug lor...</td>\n",
       "    </tr>\n",
       "    <tr>\n",
       "      <th>3</th>\n",
       "      <td>TV Show</td>\n",
       "      <td>Jailbirds New Orleans</td>\n",
       "      <td>NaN</td>\n",
       "      <td>NaN</td>\n",
       "      <td>2021</td>\n",
       "      <td>Docuseries, Reality TV</td>\n",
       "      <td>Feuds, flirtations and toilet talk go down amo...</td>\n",
       "    </tr>\n",
       "    <tr>\n",
       "      <th>4</th>\n",
       "      <td>TV Show</td>\n",
       "      <td>Kota Factory</td>\n",
       "      <td>Mayur More, Jitendra Kumar, Ranjan Raj, Alam K...</td>\n",
       "      <td>India</td>\n",
       "      <td>2021</td>\n",
       "      <td>International TV Shows, Romantic TV Shows, TV ...</td>\n",
       "      <td>In a city of coaching centers known to train I...</td>\n",
       "    </tr>\n",
       "    <tr>\n",
       "      <th>...</th>\n",
       "      <td>...</td>\n",
       "      <td>...</td>\n",
       "      <td>...</td>\n",
       "      <td>...</td>\n",
       "      <td>...</td>\n",
       "      <td>...</td>\n",
       "      <td>...</td>\n",
       "    </tr>\n",
       "    <tr>\n",
       "      <th>11054</th>\n",
       "      <td>TV Show</td>\n",
       "      <td>X-Men: Evolution</td>\n",
       "      <td>Noel Fisher, Vincent Gale, Christopher Judge, ...</td>\n",
       "      <td>United States</td>\n",
       "      <td>2000</td>\n",
       "      <td>Action-Adventure, Animation, Kids</td>\n",
       "      <td>X-Men: Evolution features the team as teenager...</td>\n",
       "    </tr>\n",
       "    <tr>\n",
       "      <th>11055</th>\n",
       "      <td>TV Show</td>\n",
       "      <td>Smart Guy</td>\n",
       "      <td>Tahj Mowry, John Jones, Jason Weaver, Essence ...</td>\n",
       "      <td>United States</td>\n",
       "      <td>1996</td>\n",
       "      <td>Comedy, Coming of Age, Kids</td>\n",
       "      <td>A genius tries to fit in as a high school soph...</td>\n",
       "    </tr>\n",
       "    <tr>\n",
       "      <th>11056</th>\n",
       "      <td>TV Show</td>\n",
       "      <td>Disney Kirby Buckets</td>\n",
       "      <td>Jacob Bertrand, Mekai Curtis, Cade Sutton, Oli...</td>\n",
       "      <td>United States</td>\n",
       "      <td>2014</td>\n",
       "      <td>Action-Adventure, Comedy, Coming of Age</td>\n",
       "      <td>Welcome to Kirby's world! It's rude and sketchy.</td>\n",
       "    </tr>\n",
       "    <tr>\n",
       "      <th>11057</th>\n",
       "      <td>TV Show</td>\n",
       "      <td>Disney Mech-X4</td>\n",
       "      <td>Nathaniel Potvin, Raymond Cham, Kamran Lucas, ...</td>\n",
       "      <td>Canada</td>\n",
       "      <td>2016</td>\n",
       "      <td>Action-Adventure, Comedy, Science Fiction</td>\n",
       "      <td>Ryan discovers his ability to control a giant ...</td>\n",
       "    </tr>\n",
       "    <tr>\n",
       "      <th>11058</th>\n",
       "      <td>TV Show</td>\n",
       "      <td>Imagination Movers</td>\n",
       "      <td>Rich Collins, Dave Poche, Scott Durbin, Scott ...</td>\n",
       "      <td>United States</td>\n",
       "      <td>2008</td>\n",
       "      <td>Kids, Music</td>\n",
       "      <td>Rock out with the Imagination Movers, Disney J...</td>\n",
       "    </tr>\n",
       "  </tbody>\n",
       "</table>\n",
       "<p>11059 rows × 7 columns</p>\n",
       "</div>"
      ],
      "text/plain": [
       "          type                  title  \\\n",
       "0        Movie   Dick Johnson Is Dead   \n",
       "1      TV Show          Blood & Water   \n",
       "2      TV Show              Ganglands   \n",
       "3      TV Show  Jailbirds New Orleans   \n",
       "4      TV Show           Kota Factory   \n",
       "...        ...                    ...   \n",
       "11054  TV Show       X-Men: Evolution   \n",
       "11055  TV Show              Smart Guy   \n",
       "11056  TV Show   Disney Kirby Buckets   \n",
       "11057  TV Show         Disney Mech-X4   \n",
       "11058  TV Show     Imagination Movers   \n",
       "\n",
       "                                                    cast        country  \\\n",
       "0                                                    NaN  United States   \n",
       "1      Ama Qamata, Khosi Ngema, Gail Mabalane, Thaban...   South Africa   \n",
       "2      Sami Bouajila, Tracy Gotoas, Samuel Jouy, Nabi...            NaN   \n",
       "3                                                    NaN            NaN   \n",
       "4      Mayur More, Jitendra Kumar, Ranjan Raj, Alam K...          India   \n",
       "...                                                  ...            ...   \n",
       "11054  Noel Fisher, Vincent Gale, Christopher Judge, ...  United States   \n",
       "11055  Tahj Mowry, John Jones, Jason Weaver, Essence ...  United States   \n",
       "11056  Jacob Bertrand, Mekai Curtis, Cade Sutton, Oli...  United States   \n",
       "11057  Nathaniel Potvin, Raymond Cham, Kamran Lucas, ...         Canada   \n",
       "11058  Rich Collins, Dave Poche, Scott Durbin, Scott ...  United States   \n",
       "\n",
       "       release_year                                          listed_in  \\\n",
       "0              2020                                      Documentaries   \n",
       "1              2021    International TV Shows, TV Dramas, TV Mysteries   \n",
       "2              2021  Crime TV Shows, International TV Shows, TV Act...   \n",
       "3              2021                             Docuseries, Reality TV   \n",
       "4              2021  International TV Shows, Romantic TV Shows, TV ...   \n",
       "...             ...                                                ...   \n",
       "11054          2000                  Action-Adventure, Animation, Kids   \n",
       "11055          1996                        Comedy, Coming of Age, Kids   \n",
       "11056          2014            Action-Adventure, Comedy, Coming of Age   \n",
       "11057          2016          Action-Adventure, Comedy, Science Fiction   \n",
       "11058          2008                                        Kids, Music   \n",
       "\n",
       "                                             description  \n",
       "0      As her father nears the end of his life, filmm...  \n",
       "1      After crossing paths at a party, a Cape Town t...  \n",
       "2      To protect his family from a powerful drug lor...  \n",
       "3      Feuds, flirtations and toilet talk go down amo...  \n",
       "4      In a city of coaching centers known to train I...  \n",
       "...                                                  ...  \n",
       "11054  X-Men: Evolution features the team as teenager...  \n",
       "11055  A genius tries to fit in as a high school soph...  \n",
       "11056   Welcome to Kirby's world! It's rude and sketchy.  \n",
       "11057  Ryan discovers his ability to control a giant ...  \n",
       "11058  Rock out with the Imagination Movers, Disney J...  \n",
       "\n",
       "[11059 rows x 7 columns]"
      ]
     },
     "execution_count": 2,
     "metadata": {},
     "output_type": "execute_result"
    }
   ],
   "source": [
    "data=pd.read_csv(\"dataset.csv\")\n",
    "data"
   ]
  },
  {
   "cell_type": "markdown",
   "metadata": {},
   "source": [
    "### Data Information"
   ]
  },
  {
   "cell_type": "code",
   "execution_count": 3,
   "metadata": {},
   "outputs": [
    {
     "name": "stdout",
     "output_type": "stream",
     "text": [
      "<class 'pandas.core.frame.DataFrame'>\n",
      "RangeIndex: 11059 entries, 0 to 11058\n",
      "Data columns (total 7 columns):\n",
      " #   Column        Non-Null Count  Dtype \n",
      "---  ------        --------------  ----- \n",
      " 0   type          11059 non-null  object\n",
      " 1   title         11059 non-null  object\n",
      " 2   cast          9694 non-null   object\n",
      " 3   country       8364 non-null   object\n",
      " 4   release_year  11059 non-null  int64 \n",
      " 5   listed_in     11059 non-null  object\n",
      " 6   description   11059 non-null  object\n",
      "dtypes: int64(1), object(6)\n",
      "memory usage: 604.9+ KB\n"
     ]
    }
   ],
   "source": [
    "data.info()"
   ]
  },
  {
   "cell_type": "code",
   "execution_count": 4,
   "metadata": {},
   "outputs": [
    {
     "data": {
      "text/html": [
       "<div>\n",
       "<style scoped>\n",
       "    .dataframe tbody tr th:only-of-type {\n",
       "        vertical-align: middle;\n",
       "    }\n",
       "\n",
       "    .dataframe tbody tr th {\n",
       "        vertical-align: top;\n",
       "    }\n",
       "\n",
       "    .dataframe thead th {\n",
       "        text-align: right;\n",
       "    }\n",
       "</style>\n",
       "<table border=\"1\" class=\"dataframe\">\n",
       "  <thead>\n",
       "    <tr style=\"text-align: right;\">\n",
       "      <th></th>\n",
       "      <th>release_year</th>\n",
       "    </tr>\n",
       "  </thead>\n",
       "  <tbody>\n",
       "    <tr>\n",
       "      <th>count</th>\n",
       "      <td>11059.000000</td>\n",
       "    </tr>\n",
       "    <tr>\n",
       "      <th>mean</th>\n",
       "      <td>2014.209603</td>\n",
       "    </tr>\n",
       "    <tr>\n",
       "      <th>std</th>\n",
       "      <td>8.959517</td>\n",
       "    </tr>\n",
       "    <tr>\n",
       "      <th>min</th>\n",
       "      <td>1925.000000</td>\n",
       "    </tr>\n",
       "    <tr>\n",
       "      <th>25%</th>\n",
       "      <td>2013.000000</td>\n",
       "    </tr>\n",
       "    <tr>\n",
       "      <th>50%</th>\n",
       "      <td>2017.000000</td>\n",
       "    </tr>\n",
       "    <tr>\n",
       "      <th>75%</th>\n",
       "      <td>2019.000000</td>\n",
       "    </tr>\n",
       "    <tr>\n",
       "      <th>max</th>\n",
       "      <td>2021.000000</td>\n",
       "    </tr>\n",
       "  </tbody>\n",
       "</table>\n",
       "</div>"
      ],
      "text/plain": [
       "       release_year\n",
       "count  11059.000000\n",
       "mean    2014.209603\n",
       "std        8.959517\n",
       "min     1925.000000\n",
       "25%     2013.000000\n",
       "50%     2017.000000\n",
       "75%     2019.000000\n",
       "max     2021.000000"
      ]
     },
     "execution_count": 4,
     "metadata": {},
     "output_type": "execute_result"
    }
   ],
   "source": [
    "data.describe()"
   ]
  },
  {
   "cell_type": "markdown",
   "metadata": {},
   "source": [
    "### Missing Data"
   ]
  },
  {
   "cell_type": "code",
   "execution_count": 5,
   "metadata": {},
   "outputs": [
    {
     "data": {
      "text/plain": [
       "type               0\n",
       "title              0\n",
       "cast            1365\n",
       "country         2695\n",
       "release_year       0\n",
       "listed_in          0\n",
       "description        0\n",
       "dtype: int64"
      ]
     },
     "execution_count": 5,
     "metadata": {},
     "output_type": "execute_result"
    }
   ],
   "source": [
    "data.isnull().sum(axis = 0)"
   ]
  },
  {
   "cell_type": "markdown",
   "metadata": {},
   "source": [
    "## Phase1: Preprocess"
   ]
  },
  {
   "cell_type": "markdown",
   "metadata": {},
   "source": [
    "### Dealing With Missing Values\n",
    "There are several ways to deal with missing values, here two of them is discussed:\n",
    " - deleting data: we may choose to remove rows with missing data if the number of rows with missing data is insignifiant, or if it is not possible to easily estimate them. We may also remove the column if it is insignificant or has too may missing values\n",
    " \n",
    " \n",
    " - filling data: we may choose to fill the missing values with an estimation. this can be a predetermined default value or attributes like mean/median/mode. the downside of this method is the loss of variance and correlation with other data. We may also choose to use more complex methods like ML algorithms to estimate missing data, this can solve the problems mentioned earlier, however it highly depends on the method. \n",
    " in this case we chose to replace missing value for \"cast\" column with an empty set and replace the missing values of \"country\" column with the mode of other data. The reason is that for there may be some correlation between the \"cast\" and \"type\" columns so it is better to not use values like mode for this. this is not an issue for \"country\" column, so we replaced the empty rows with mode."
   ]
  },
  {
   "cell_type": "code",
   "execution_count": 6,
   "metadata": {},
   "outputs": [],
   "source": [
    "def replace_missing_data(data):\n",
    "    data['country'] = data['country'].fillna(data['country'].mode()[0]);\n",
    "    data['cast'] = data['cast'].fillna(\"\");"
   ]
  },
  {
   "cell_type": "markdown",
   "metadata": {},
   "source": [
    "### Normalization and Standardization\n",
    "In order to keep our result from being affected by difference in feature scales, we can use either normalization or standardization:\n",
    "\n",
    "- Normalization: this method rescales the data to be in range [0,1]. the formula is:\n",
    "$$data_{normalized}=\\frac{data-data_{min}}{data_{max}-data_{min}}$$\n",
    "\n",
    "- Standardization: this method rescales the data so that the mean is 0 and std is 1. \n",
    "$$data_{standardized}=\\frac{data-mean}{std}$$\n",
    "\n",
    "in our dataset, the only numerical value is \"release_year\". Since the decision tree is not actually dependent on scales (as it considers each feature separatly and divide the tree by choosing a threshold). both normalization and standardization would be fine here. we chose standardization."
   ]
  },
  {
   "cell_type": "code",
   "execution_count": 7,
   "metadata": {},
   "outputs": [],
   "source": [
    "def standardize(data):\n",
    "    data['release_year']=(data['release_year']-data['release_year'].mean())/data['release_year'].std()"
   ]
  },
  {
   "cell_type": "markdown",
   "metadata": {},
   "source": [
    "### Categorical Data\n",
    "\n",
    "there are several ways to handle categorical data:\n",
    "\n",
    "- Adding categories as features: in this method, we add a column for each category and set the corresponding row to 1 if that row belongs to category. This method may not be good if we have to many categories.\n",
    "-  replacing categories with numbers: in this method, we assign a number to each category. this method is better suited for ordinal categories.\n",
    "\n",
    "In this part, we replace the \"type\" column with corresponding numbers:\n"
   ]
  },
  {
   "cell_type": "code",
   "execution_count": 8,
   "metadata": {},
   "outputs": [],
   "source": [
    "def replace_categorical_data(data):\n",
    "    labels = data['type'].astype('category').cat.categories.tolist()\n",
    "    replace_map = {'type' : {labels[0]:0,labels[1]:1}}\n",
    "    data.replace(replace_map, inplace=True)"
   ]
  },
  {
   "cell_type": "markdown",
   "metadata": {},
   "source": [
    "### Listed Data\n",
    "\n",
    "To handle listed data, we use the \"Adding categories as features\" method which was described in previous part. however there is no need to use all of the names that appear on the list because using the rare values would cause overfitting. so we choose the $\\alpha$ most common values in each column for new features, where $\\alpha$ is a parameter given as input."
   ]
  },
  {
   "cell_type": "code",
   "execution_count": 9,
   "metadata": {},
   "outputs": [],
   "source": [
    "import operator\n",
    "def replace_listed_data(data,col,alpha):\n",
    "    features={}\n",
    "    for i in range(len(data[col])): \n",
    "        x=data[col][i].split(\",\");\n",
    "        for word in x:\n",
    "            if word in features: \n",
    "                features[word]+=1;\n",
    "            else:\n",
    "                features[word]=1;\n",
    "        data[col][i]=x\n",
    "    sorted_features=sorted(features.items(), key=operator.itemgetter(1))\n",
    "    for i in range(alpha):\n",
    "        feature=sorted_features[-i-1][0]\n",
    "        data[feature]=0;\n",
    "        for j in range(len(data[col])):\n",
    "            if feature in data[col][j] :\n",
    "                data[feature][j]=1"
   ]
  },
  {
   "cell_type": "markdown",
   "metadata": {},
   "source": [
    "### Count Vectorizer"
   ]
  },
  {
   "cell_type": "code",
   "execution_count": 10,
   "metadata": {},
   "outputs": [],
   "source": [
    "from sklearn.feature_extraction.text import CountVectorizer\n",
    "def count_vectorize():\n",
    "    cv=CountVectorizer(max_df=0.95, min_df=2,max_features=10000,stop_words='english')\n",
    "    data[\"title\"]=cv.fit_transform(data[\"title\"]);\n",
    "    data[\"description\"]=cv.fit_transform(data[\"description\"]);\n"
   ]
  },
  {
   "cell_type": "markdown",
   "metadata": {},
   "source": [
    "### Overall"
   ]
  },
  {
   "cell_type": "code",
   "execution_count": 11,
   "metadata": {},
   "outputs": [
    {
     "data": {
      "text/html": [
       "<div>\n",
       "<style scoped>\n",
       "    .dataframe tbody tr th:only-of-type {\n",
       "        vertical-align: middle;\n",
       "    }\n",
       "\n",
       "    .dataframe tbody tr th {\n",
       "        vertical-align: top;\n",
       "    }\n",
       "\n",
       "    .dataframe thead th {\n",
       "        text-align: right;\n",
       "    }\n",
       "</style>\n",
       "<table border=\"1\" class=\"dataframe\">\n",
       "  <thead>\n",
       "    <tr style=\"text-align: right;\">\n",
       "      <th></th>\n",
       "      <th>type</th>\n",
       "      <th>release_year</th>\n",
       "      <th>International Movies</th>\n",
       "      <th>Dramas</th>\n",
       "      <th>Comedies</th>\n",
       "      <th>Action &amp; Adventure</th>\n",
       "      <th>Documentaries</th>\n",
       "      <th>Dramas</th>\n",
       "      <th>International TV Shows</th>\n",
       "      <th>Independent Movies</th>\n",
       "      <th>...</th>\n",
       "      <th></th>\n",
       "      <th>Anupam Kher</th>\n",
       "      <th>Takahiro Sakurai</th>\n",
       "      <th>Rupa Bhimani</th>\n",
       "      <th>Julie Tejwani</th>\n",
       "      <th>Om Puri</th>\n",
       "      <th>Yuki Kaji</th>\n",
       "      <th>Vincent Tong</th>\n",
       "      <th>Shah Rukh Khan</th>\n",
       "      <th>Rajesh Kava</th>\n",
       "    </tr>\n",
       "  </thead>\n",
       "  <tbody>\n",
       "    <tr>\n",
       "      <th>0</th>\n",
       "      <td>0</td>\n",
       "      <td>0.646285</td>\n",
       "      <td>0</td>\n",
       "      <td>0</td>\n",
       "      <td>0</td>\n",
       "      <td>0</td>\n",
       "      <td>1</td>\n",
       "      <td>0</td>\n",
       "      <td>0</td>\n",
       "      <td>0</td>\n",
       "      <td>...</td>\n",
       "      <td>1</td>\n",
       "      <td>0</td>\n",
       "      <td>0</td>\n",
       "      <td>0</td>\n",
       "      <td>0</td>\n",
       "      <td>0</td>\n",
       "      <td>0</td>\n",
       "      <td>0</td>\n",
       "      <td>0</td>\n",
       "      <td>0</td>\n",
       "    </tr>\n",
       "    <tr>\n",
       "      <th>1</th>\n",
       "      <td>1</td>\n",
       "      <td>0.757898</td>\n",
       "      <td>0</td>\n",
       "      <td>0</td>\n",
       "      <td>0</td>\n",
       "      <td>0</td>\n",
       "      <td>0</td>\n",
       "      <td>0</td>\n",
       "      <td>1</td>\n",
       "      <td>0</td>\n",
       "      <td>...</td>\n",
       "      <td>0</td>\n",
       "      <td>0</td>\n",
       "      <td>0</td>\n",
       "      <td>0</td>\n",
       "      <td>0</td>\n",
       "      <td>0</td>\n",
       "      <td>0</td>\n",
       "      <td>0</td>\n",
       "      <td>0</td>\n",
       "      <td>0</td>\n",
       "    </tr>\n",
       "    <tr>\n",
       "      <th>2</th>\n",
       "      <td>1</td>\n",
       "      <td>0.757898</td>\n",
       "      <td>0</td>\n",
       "      <td>0</td>\n",
       "      <td>0</td>\n",
       "      <td>0</td>\n",
       "      <td>0</td>\n",
       "      <td>0</td>\n",
       "      <td>0</td>\n",
       "      <td>0</td>\n",
       "      <td>...</td>\n",
       "      <td>0</td>\n",
       "      <td>0</td>\n",
       "      <td>0</td>\n",
       "      <td>0</td>\n",
       "      <td>0</td>\n",
       "      <td>0</td>\n",
       "      <td>0</td>\n",
       "      <td>0</td>\n",
       "      <td>0</td>\n",
       "      <td>0</td>\n",
       "    </tr>\n",
       "    <tr>\n",
       "      <th>3</th>\n",
       "      <td>1</td>\n",
       "      <td>0.757898</td>\n",
       "      <td>0</td>\n",
       "      <td>0</td>\n",
       "      <td>0</td>\n",
       "      <td>0</td>\n",
       "      <td>0</td>\n",
       "      <td>0</td>\n",
       "      <td>0</td>\n",
       "      <td>0</td>\n",
       "      <td>...</td>\n",
       "      <td>1</td>\n",
       "      <td>0</td>\n",
       "      <td>0</td>\n",
       "      <td>0</td>\n",
       "      <td>0</td>\n",
       "      <td>0</td>\n",
       "      <td>0</td>\n",
       "      <td>0</td>\n",
       "      <td>0</td>\n",
       "      <td>0</td>\n",
       "    </tr>\n",
       "    <tr>\n",
       "      <th>4</th>\n",
       "      <td>1</td>\n",
       "      <td>0.757898</td>\n",
       "      <td>0</td>\n",
       "      <td>0</td>\n",
       "      <td>0</td>\n",
       "      <td>0</td>\n",
       "      <td>0</td>\n",
       "      <td>0</td>\n",
       "      <td>1</td>\n",
       "      <td>0</td>\n",
       "      <td>...</td>\n",
       "      <td>0</td>\n",
       "      <td>0</td>\n",
       "      <td>0</td>\n",
       "      <td>0</td>\n",
       "      <td>0</td>\n",
       "      <td>0</td>\n",
       "      <td>0</td>\n",
       "      <td>0</td>\n",
       "      <td>0</td>\n",
       "      <td>0</td>\n",
       "    </tr>\n",
       "    <tr>\n",
       "      <th>...</th>\n",
       "      <td>...</td>\n",
       "      <td>...</td>\n",
       "      <td>...</td>\n",
       "      <td>...</td>\n",
       "      <td>...</td>\n",
       "      <td>...</td>\n",
       "      <td>...</td>\n",
       "      <td>...</td>\n",
       "      <td>...</td>\n",
       "      <td>...</td>\n",
       "      <td>...</td>\n",
       "      <td>...</td>\n",
       "      <td>...</td>\n",
       "      <td>...</td>\n",
       "      <td>...</td>\n",
       "      <td>...</td>\n",
       "      <td>...</td>\n",
       "      <td>...</td>\n",
       "      <td>...</td>\n",
       "      <td>...</td>\n",
       "      <td>...</td>\n",
       "    </tr>\n",
       "    <tr>\n",
       "      <th>11054</th>\n",
       "      <td>1</td>\n",
       "      <td>-1.585979</td>\n",
       "      <td>0</td>\n",
       "      <td>0</td>\n",
       "      <td>0</td>\n",
       "      <td>0</td>\n",
       "      <td>0</td>\n",
       "      <td>0</td>\n",
       "      <td>0</td>\n",
       "      <td>0</td>\n",
       "      <td>...</td>\n",
       "      <td>0</td>\n",
       "      <td>0</td>\n",
       "      <td>0</td>\n",
       "      <td>0</td>\n",
       "      <td>0</td>\n",
       "      <td>0</td>\n",
       "      <td>0</td>\n",
       "      <td>0</td>\n",
       "      <td>0</td>\n",
       "      <td>0</td>\n",
       "    </tr>\n",
       "    <tr>\n",
       "      <th>11055</th>\n",
       "      <td>1</td>\n",
       "      <td>-2.032431</td>\n",
       "      <td>0</td>\n",
       "      <td>0</td>\n",
       "      <td>0</td>\n",
       "      <td>0</td>\n",
       "      <td>0</td>\n",
       "      <td>0</td>\n",
       "      <td>0</td>\n",
       "      <td>0</td>\n",
       "      <td>...</td>\n",
       "      <td>0</td>\n",
       "      <td>0</td>\n",
       "      <td>0</td>\n",
       "      <td>0</td>\n",
       "      <td>0</td>\n",
       "      <td>0</td>\n",
       "      <td>0</td>\n",
       "      <td>0</td>\n",
       "      <td>0</td>\n",
       "      <td>0</td>\n",
       "    </tr>\n",
       "    <tr>\n",
       "      <th>11056</th>\n",
       "      <td>1</td>\n",
       "      <td>-0.023394</td>\n",
       "      <td>0</td>\n",
       "      <td>0</td>\n",
       "      <td>0</td>\n",
       "      <td>0</td>\n",
       "      <td>0</td>\n",
       "      <td>0</td>\n",
       "      <td>0</td>\n",
       "      <td>0</td>\n",
       "      <td>...</td>\n",
       "      <td>0</td>\n",
       "      <td>0</td>\n",
       "      <td>0</td>\n",
       "      <td>0</td>\n",
       "      <td>0</td>\n",
       "      <td>0</td>\n",
       "      <td>0</td>\n",
       "      <td>0</td>\n",
       "      <td>0</td>\n",
       "      <td>0</td>\n",
       "    </tr>\n",
       "    <tr>\n",
       "      <th>11057</th>\n",
       "      <td>1</td>\n",
       "      <td>0.199832</td>\n",
       "      <td>0</td>\n",
       "      <td>0</td>\n",
       "      <td>0</td>\n",
       "      <td>0</td>\n",
       "      <td>0</td>\n",
       "      <td>0</td>\n",
       "      <td>0</td>\n",
       "      <td>0</td>\n",
       "      <td>...</td>\n",
       "      <td>0</td>\n",
       "      <td>0</td>\n",
       "      <td>0</td>\n",
       "      <td>0</td>\n",
       "      <td>0</td>\n",
       "      <td>0</td>\n",
       "      <td>0</td>\n",
       "      <td>0</td>\n",
       "      <td>0</td>\n",
       "      <td>0</td>\n",
       "    </tr>\n",
       "    <tr>\n",
       "      <th>11058</th>\n",
       "      <td>1</td>\n",
       "      <td>-0.693073</td>\n",
       "      <td>0</td>\n",
       "      <td>0</td>\n",
       "      <td>0</td>\n",
       "      <td>0</td>\n",
       "      <td>0</td>\n",
       "      <td>0</td>\n",
       "      <td>0</td>\n",
       "      <td>0</td>\n",
       "      <td>...</td>\n",
       "      <td>0</td>\n",
       "      <td>0</td>\n",
       "      <td>0</td>\n",
       "      <td>0</td>\n",
       "      <td>0</td>\n",
       "      <td>0</td>\n",
       "      <td>0</td>\n",
       "      <td>0</td>\n",
       "      <td>0</td>\n",
       "      <td>0</td>\n",
       "    </tr>\n",
       "  </tbody>\n",
       "</table>\n",
       "<p>11059 rows × 42 columns</p>\n",
       "</div>"
      ],
      "text/plain": [
       "       type  release_year   International Movies  Dramas  Comedies  \\\n",
       "0         0      0.646285                      0       0         0   \n",
       "1         1      0.757898                      0       0         0   \n",
       "2         1      0.757898                      0       0         0   \n",
       "3         1      0.757898                      0       0         0   \n",
       "4         1      0.757898                      0       0         0   \n",
       "...     ...           ...                    ...     ...       ...   \n",
       "11054     1     -1.585979                      0       0         0   \n",
       "11055     1     -2.032431                      0       0         0   \n",
       "11056     1     -0.023394                      0       0         0   \n",
       "11057     1      0.199832                      0       0         0   \n",
       "11058     1     -0.693073                      0       0         0   \n",
       "\n",
       "       Action & Adventure  Documentaries   Dramas  International TV Shows  \\\n",
       "0                       0              1        0                       0   \n",
       "1                       0              0        0                       1   \n",
       "2                       0              0        0                       0   \n",
       "3                       0              0        0                       0   \n",
       "4                       0              0        0                       1   \n",
       "...                   ...            ...      ...                     ...   \n",
       "11054                   0              0        0                       0   \n",
       "11055                   0              0        0                       0   \n",
       "11056                   0              0        0                       0   \n",
       "11057                   0              0        0                       0   \n",
       "11058                   0              0        0                       0   \n",
       "\n",
       "        Independent Movies  ...      Anupam Kher   Takahiro Sakurai  \\\n",
       "0                        0  ...  1             0                  0   \n",
       "1                        0  ...  0             0                  0   \n",
       "2                        0  ...  0             0                  0   \n",
       "3                        0  ...  1             0                  0   \n",
       "4                        0  ...  0             0                  0   \n",
       "...                    ...  ... ..           ...                ...   \n",
       "11054                    0  ...  0             0                  0   \n",
       "11055                    0  ...  0             0                  0   \n",
       "11056                    0  ...  0             0                  0   \n",
       "11057                    0  ...  0             0                  0   \n",
       "11058                    0  ...  0             0                  0   \n",
       "\n",
       "        Rupa Bhimani   Julie Tejwani   Om Puri   Yuki Kaji   Vincent Tong  \\\n",
       "0                  0               0         0           0              0   \n",
       "1                  0               0         0           0              0   \n",
       "2                  0               0         0           0              0   \n",
       "3                  0               0         0           0              0   \n",
       "4                  0               0         0           0              0   \n",
       "...              ...             ...       ...         ...            ...   \n",
       "11054              0               0         0           0              0   \n",
       "11055              0               0         0           0              0   \n",
       "11056              0               0         0           0              0   \n",
       "11057              0               0         0           0              0   \n",
       "11058              0               0         0           0              0   \n",
       "\n",
       "       Shah Rukh Khan   Rajesh Kava  \n",
       "0                   0             0  \n",
       "1                   0             0  \n",
       "2                   0             0  \n",
       "3                   0             0  \n",
       "4                   0             0  \n",
       "...               ...           ...  \n",
       "11054               0             0  \n",
       "11055               0             0  \n",
       "11056               0             0  \n",
       "11057               0             0  \n",
       "11058               0             0  \n",
       "\n",
       "[11059 rows x 42 columns]"
      ]
     },
     "metadata": {},
     "output_type": "display_data"
    }
   ],
   "source": [
    "def preprocess(data,cv=False):\n",
    "    replace_missing_data(data);\n",
    "    standardize(data);\n",
    "    replace_categorical_data(data);\n",
    "    replace_listed_data(data,\"listed_in\",20);\n",
    "    replace_listed_data(data,\"country\",10);\n",
    "    replace_listed_data(data,\"cast\",10);\n",
    "    if(cv):\n",
    "        count_vectorize(data)\n",
    "    data = data.drop(columns=[\"listed_in\",\"country\",\"cast\",\"title\",\"description\"],inplace=True);\n",
    "\n",
    "preprocess(data);\n",
    "display(data);"
   ]
  },
  {
   "cell_type": "markdown",
   "metadata": {},
   "source": [
    "### Information Gain"
   ]
  },
  {
   "cell_type": "code",
   "execution_count": 12,
   "metadata": {},
   "outputs": [
    {
     "data": {
      "text/plain": [
       "<BarContainer object of 41 artists>"
      ]
     },
     "execution_count": 12,
     "metadata": {},
     "output_type": "execute_result"
    },
    {
     "data": {
      "image/png": "[encoded data removed]",
      "text/plain": [
       "<Figure size 864x864 with 1 Axes>"
      ]
     },
     "metadata": {
      "needs_background": "light"
     },
     "output_type": "display_data"
    }
   ],
   "source": [
    "from sklearn.feature_selection import mutual_info_classif\n",
    "tdata=copy.deepcopy(data)\n",
    "tdata=tdata.drop(columns=[\"type\"])\n",
    "gain=mutual_info_classif(tdata, data[\"type\"], discrete_features=True)\n",
    "res = dict(zip(tdata.columns,gain))\n",
    "plt.figure(figsize=(12,12))\n",
    "plt.xticks(rotation='vertical')\n",
    "plt.bar(*zip(*res.items()))"
   ]
  },
  {
   "cell_type": "markdown",
   "metadata": {},
   "source": [
    "## Phase2: Decision Tree\n",
    "In this part, we use the sklearn library to implement a decision tree."
   ]
  },
  {
   "cell_type": "markdown",
   "metadata": {},
   "source": [
    "### Train and Test Data\n",
    "first we split our data into train and test."
   ]
  },
  {
   "cell_type": "code",
   "execution_count": 13,
   "metadata": {},
   "outputs": [],
   "source": [
    "from sklearn.model_selection import train_test_split\n",
    "def split_data(p=0.2):\n",
    "    train, test = train_test_split(data, test_size=p)\n",
    "    return train,test;"
   ]
  },
  {
   "cell_type": "markdown",
   "metadata": {},
   "source": [
    "### Making the Tree\n",
    "in this part we make a decision tree using the sklearn library function. then we try to change the hyper parameters to make the model better. the hyper parameters include:\n",
    "- max_depth: this parameter indicates the maximum depth of the tree. If max_depth is reached, the node becomes a leaf and wont be splited.\n",
    "- min_samples_split: this parameter indicates the minimum number of samples needed to split a node, In other words, a node wont split and becomes a leaf if it has fewer samples than min_samples_split."
   ]
  },
  {
   "cell_type": "code",
   "execution_count": 14,
   "metadata": {},
   "outputs": [],
   "source": [
    "from sklearn import tree\n",
    "\n",
    "def build_tree(train,md=10):\n",
    "    tdata=copy.deepcopy(train)\n",
    "    tdata=tdata.drop(columns=[\"type\"])\n",
    "    clf = tree.DecisionTreeClassifier(max_depth=md);\n",
    "    clf = clf.fit(tdata, train['type']);\n",
    "    return clf"
   ]
  },
  {
   "cell_type": "markdown",
   "metadata": {},
   "source": [
    "### Evaluation"
   ]
  },
  {
   "cell_type": "code",
   "execution_count": 15,
   "metadata": {},
   "outputs": [],
   "source": [
    "from sklearn.metrics import confusion_matrix\n",
    "from sklearn.metrics import accuracy_score"
   ]
  },
  {
   "cell_type": "markdown",
   "metadata": {},
   "source": [
    "#### 1- Test and Train Split Parameter\n",
    "in this part, we split the data with 3 different test sizes and compaare the results"
   ]
  },
  {
   "cell_type": "markdown",
   "metadata": {},
   "source": [
    "##### test=20% data:\n",
    "we choose this split because we wanted to use most of the data for train. but the test data cannot be very small or the accuracy would depend on the way the data is splited and would not be a good estimate for our models performance."
   ]
  },
  {
   "cell_type": "code",
   "execution_count": 16,
   "metadata": {},
   "outputs": [
    {
     "data": {
      "text/plain": [
       "0.9439421338155516"
      ]
     },
     "execution_count": 16,
     "metadata": {},
     "output_type": "execute_result"
    }
   ],
   "source": [
    "train,test=split_data(0.2)\n",
    "dt=build_tree(train)\n",
    "# plt.figure(figsize=(12,12))\n",
    "# tree.plot_tree(dt,fontsize=10)\n",
    "# plt.show()\n",
    "tdata=copy.deepcopy(test)\n",
    "tdata=tdata.drop(columns=[\"type\"])\n",
    "res=dt.predict(tdata)\n",
    "accuracy_score(test[\"type\"],res)"
   ]
  },
  {
   "cell_type": "markdown",
   "metadata": {},
   "source": [
    "##### test=2% data:\n",
    "as mentioned earlier, when using a very small test data, the accuracy would be dependent on the split method and wont be accurate. in this case, the result is close to what we achieved above."
   ]
  },
  {
   "cell_type": "code",
   "execution_count": 17,
   "metadata": {},
   "outputs": [
    {
     "data": {
      "text/plain": [
       "0.963963963963964"
      ]
     },
     "execution_count": 17,
     "metadata": {},
     "output_type": "execute_result"
    }
   ],
   "source": [
    "train,test=split_data(0.02)\n",
    "dt=build_tree(train)\n",
    "tdata=copy.deepcopy(test)\n",
    "tdata=tdata.drop(columns=[\"type\"])\n",
    "res=dt.predict(tdata)\n",
    "accuracy_score(test[\"type\"],res)"
   ]
  },
  {
   "cell_type": "markdown",
   "metadata": {},
   "source": [
    "##### test=60% data:\n",
    "in this case, since the train data is small, the model has not seen enough samples so it may fail to predict correctly."
   ]
  },
  {
   "cell_type": "code",
   "execution_count": 18,
   "metadata": {},
   "outputs": [
    {
     "data": {
      "text/plain": [
       "0.9439421338155516"
      ]
     },
     "execution_count": 18,
     "metadata": {},
     "output_type": "execute_result"
    }
   ],
   "source": [
    "train,test=split_data(0.6)\n",
    "dt=build_tree(train)\n",
    "tdata=copy.deepcopy(test)\n",
    "tdata=tdata.drop(columns=[\"type\"])\n",
    "res=dt.predict(tdata)\n",
    "accuracy_score(test[\"type\"],res)"
   ]
  },
  {
   "cell_type": "markdown",
   "metadata": {},
   "source": [
    "#### 2- max_depth Effect\n",
    "in this part, we make a model with different max_depth values and compare the results."
   ]
  },
  {
   "cell_type": "code",
   "execution_count": 19,
   "metadata": {},
   "outputs": [
    {
     "data": {
      "text/plain": [
       "Text(0, 0.5, 'accuracy')"
      ]
     },
     "execution_count": 19,
     "metadata": {},
     "output_type": "execute_result"
    },
    {
     "data": {
      "image/png": "[encoded data removed]",
      "text/plain": [
       "<Figure size 432x288 with 1 Axes>"
      ]
     },
     "metadata": {
      "needs_background": "light"
     },
     "output_type": "display_data"
    }
   ],
   "source": [
    "train,test=split_data(0.2)\n",
    "tdata=copy.deepcopy(test)\n",
    "tdata=tdata.drop(columns=[\"type\"])\n",
    "tdata2=copy.deepcopy(train)\n",
    "tdata2=tdata2.drop(columns=[\"type\"])\n",
    "\n",
    "x=[]\n",
    "trn=[]\n",
    "tst=[]\n",
    "for md in range(120):\n",
    "    dt=build_tree(train,md+1)\n",
    "    res=dt.predict(tdata)\n",
    "    res2=dt.predict(tdata2)\n",
    "    x.append(md+1)\n",
    "    trn.append(accuracy_score(train[\"type\"],res2))\n",
    "    tst.append(accuracy_score(test[\"type\"],res))\n",
    "plt.plot(x,tst)\n",
    "plt.plot(x,trn)\n",
    "plt.xlabel(\"max_depth\")\n",
    "plt.ylabel(\"accuracy\")"
   ]
  },
  {
   "cell_type": "markdown",
   "metadata": {},
   "source": [
    "It can be seen that with the increase of max_depth, the accuracy on train data increases, but the accuracy on test data stops to grow.\n"
   ]
  },
  {
   "cell_type": "markdown",
   "metadata": {},
   "source": [
    "## Phase3: Random Forest\n",
    "In this part, we want to use random forest model to predict the outputs and see the effect of two hyperparameters.\n",
    "- n_estimators: this parameter indicates the number of trees used in random forest.\n",
    "- max_depth: the max_depth of all trees."
   ]
  },
  {
   "cell_type": "code",
   "execution_count": 20,
   "metadata": {},
   "outputs": [],
   "source": [
    "def build_forest(train,md=10,ne=5):\n",
    "    tdata=copy.deepcopy(train)\n",
    "    tdata=tdata.drop(columns=[\"type\"])\n",
    "    clf = RandomForestClassifier(n_estimators=ne,max_depth=md);\n",
    "    clf = clf.fit(tdata, train['type']);\n",
    "    return clf"
   ]
  },
  {
   "cell_type": "code",
   "execution_count": 21,
   "metadata": {},
   "outputs": [],
   "source": [
    "from sklearn.ensemble import RandomForestClassifier\n",
    "train,test=split_data(0.2)\n",
    "tdata=copy.deepcopy(test)\n",
    "tdata=tdata.drop(columns=[\"type\"])\n",
    "tdata2=copy.deepcopy(train)\n",
    "tdata2=tdata2.drop(columns=[\"type\"])"
   ]
  },
  {
   "cell_type": "markdown",
   "metadata": {},
   "source": [
    "##### max_depth:\n",
    "similar to decision tree, the accuracy will increase as the depth increases, however the plot is uneven."
   ]
  },
  {
   "cell_type": "code",
   "execution_count": 22,
   "metadata": {},
   "outputs": [
    {
     "data": {
      "text/plain": [
       "Text(0, 0.5, 'accuracy')"
      ]
     },
     "execution_count": 22,
     "metadata": {},
     "output_type": "execute_result"
    },
    {
     "data": {
      "image/png": "[encoded data removed]",
      "text/plain": [
       "<Figure size 432x288 with 1 Axes>"
      ]
     },
     "metadata": {
      "needs_background": "light"
     },
     "output_type": "display_data"
    }
   ],
   "source": [
    "x=[]\n",
    "trn=[]\n",
    "tst=[]\n",
    "for md in range(50):\n",
    "    dt=build_forest(train,md+1)\n",
    "    res=dt.predict(tdata)\n",
    "    res2=dt.predict(tdata2)\n",
    "    x.append(md+1)\n",
    "    trn.append(accuracy_score(train[\"type\"],res2))\n",
    "    tst.append(accuracy_score(test[\"type\"],res))\n",
    "plt.plot(x,tst)\n",
    "plt.plot(x,trn)\n",
    "plt.xlabel(\"max_depth\")\n",
    "plt.ylabel(\"accuracy\")"
   ]
  },
  {
   "cell_type": "markdown",
   "metadata": {},
   "source": [
    "##### n_estimator:\n",
    "we can see that the n_estimator does not have a linear relation with accuracy and its changes are uneven "
   ]
  },
  {
   "cell_type": "code",
   "execution_count": 23,
   "metadata": {},
   "outputs": [
    {
     "data": {
      "text/plain": [
       "Text(0, 0.5, 'accuracy')"
      ]
     },
     "execution_count": 23,
     "metadata": {},
     "output_type": "execute_result"
    },
    {
     "data": {
      "image/png": "[encoded data removed]",
      "text/plain": [
       "<Figure size 432x288 with 1 Axes>"
      ]
     },
     "metadata": {
      "needs_background": "light"
     },
     "output_type": "display_data"
    }
   ],
   "source": [
    "x=[]\n",
    "trn=[]\n",
    "tst=[]\n",
    "for en in range(30):\n",
    "    dt=build_forest(train,10,en+1)\n",
    "    res=dt.predict(tdata)\n",
    "    res2=dt.predict(tdata2)\n",
    "    x.append(en+1)\n",
    "    trn.append(accuracy_score(train[\"type\"],res2))\n",
    "    tst.append(accuracy_score(test[\"type\"],res))\n",
    "plt.plot(x,tst)\n",
    "plt.plot(x,trn)\n",
    "plt.xlabel(\"n_estimators\")\n",
    "plt.ylabel(\"accuracy\")"
   ]
  },
  {
   "cell_type": "markdown",
   "metadata": {},
   "source": [
    "## Conclusion"
   ]
  },
  {
   "cell_type": "markdown",
   "metadata": {},
   "source": [
    "In this sample, it was hard to see the difference in variance and bias between random forest and decision tree. however, we can say that random forest is less likely to be high biased because of its ensemble nature. and is less likely to be high variant because it uses several decision trees and is not effected by noise and outliers as much as a single decision tree."
   ]
  }
 ],
 "metadata": {
  "kernelspec": {
   "display_name": "Python 3 (ipykernel)",
   "language": "python",
   "name": "python3"
  },
  "language_info": {
   "codemirror_mode": {
    "name": "ipython",
    "version": 3
   },
   "file_extension": ".py",
   "mimetype": "text/x-python",
   "name": "python",
   "nbconvert_exporter": "python",
   "pygments_lexer": "ipython3",
   "version": "3.8.10"
  }
 },
 "nbformat": 4,
 "nbformat_minor": 4
}
